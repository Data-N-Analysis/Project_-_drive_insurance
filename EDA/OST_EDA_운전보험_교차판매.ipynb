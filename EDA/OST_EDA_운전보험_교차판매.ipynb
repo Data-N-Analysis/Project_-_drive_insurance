{
  "cells": [
    {
      "cell_type": "markdown",
      "metadata": {
        "id": "view-in-github",
        "colab_type": "text"
      },
      "source": [
        "<a href=\"https://colab.research.google.com/github/ohseungtae/Project_ORI-Team_drive_insurance/blob/main/EDA/OST_EDA_%EC%9A%B4%EC%A0%84%EB%B3%B4%ED%97%98_%EA%B5%90%EC%B0%A8%ED%8C%90%EB%A7%A4.ipynb\" target=\"_parent\"><img src=\"https://colab.research.google.com/assets/colab-badge.svg\" alt=\"Open In Colab\"/></a>"
      ]
    },
    {
      "cell_type": "code",
      "execution_count": null,
      "id": "2d1ae1d2",
      "metadata": {
        "id": "2d1ae1d2"
      },
      "outputs": [],
      "source": [
        "import pandas as pd"
      ]
    },
    {
      "cell_type": "code",
      "execution_count": null,
      "id": "WjDL4w7Q_1QI",
      "metadata": {
        "colab": {
          "base_uri": "https://localhost:8080/"
        },
        "id": "WjDL4w7Q_1QI",
        "outputId": "a8cf4a7a-79e6-449c-ef24-eeaeab70b41a"
      },
      "outputs": [
        {
          "name": "stdout",
          "output_type": "stream",
          "text": [
            "Drive already mounted at /content/drive; to attempt to forcibly remount, call drive.mount(\"/content/drive\", force_remount=True).\n"
          ]
        }
      ],
      "source": [
        "from google.colab import drive\n",
        "drive.mount('/content/drive')"
      ]
    },
    {
      "cell_type": "code",
      "execution_count": null,
      "id": "otqMmuXSYruj",
      "metadata": {
        "colab": {
          "base_uri": "https://localhost:8080/"
        },
        "id": "otqMmuXSYruj",
        "outputId": "66fba80a-f46e-4ac5-f6ee-a8664891dd86"
      },
      "outputs": [
        {
          "name": "stdout",
          "output_type": "stream",
          "text": [
            "/content/drive/MyDrive/Colab Notebooks/kaggle/자동차 보험 반응 분류대회/data\n",
            "['/content', '/env/python', '/usr/lib/python310.zip', '/usr/lib/python3.10', '/usr/lib/python3.10/lib-dynload', '', '/usr/local/lib/python3.10/dist-packages', '/usr/lib/python3/dist-packages', '/usr/local/lib/python3.10/dist-packages/IPython/extensions', '/root/.ipython', '/content/drive/MyDrive/Colab Notebooks/kaggle/자동차 보험 반응 분류대회/data']\n"
          ]
        }
      ],
      "source": [
        "%cd /content/drive/MyDrive/Colab Notebooks/kaggle/자동차 보험 반응 분류대회/data\n",
        "import sys\n",
        "sys.path.append('/content/drive/MyDrive/Colab Notebooks/kaggle/자동차 보험 반응 분류대회/data')\n",
        "print(sys.path)"
      ]
    },
    {
      "cell_type": "code",
      "execution_count": null,
      "id": "zIAYhkb3lfRr",
      "metadata": {
        "id": "zIAYhkb3lfRr"
      },
      "outputs": [],
      "source": [
        "import pandas as pd\n",
        "train = pd.read_csv('train.csv')\n",
        "test = pd.read_csv('test.csv')\n",
        "submission = pd.read_csv('sample_submission.csv')"
      ]
    },
    {
      "cell_type": "code",
      "execution_count": null,
      "id": "-vpIeKxU8gSq",
      "metadata": {
        "id": "-vpIeKxU8gSq"
      },
      "outputs": [],
      "source": [
        "train2= pd.read_csv('train2.csv')"
      ]
    },
    {
      "cell_type": "code",
      "execution_count": null,
      "id": "t0fffJLF904s",
      "metadata": {
        "id": "t0fffJLF904s"
      },
      "outputs": [],
      "source": [
        "train= pd.concat([train, train2], ignore_index=True)"
      ]
    },
    {
      "cell_type": "code",
      "execution_count": null,
      "id": "d1cb5d82",
      "metadata": {
        "id": "d1cb5d82"
      },
      "outputs": [],
      "source": [
        "train = train.drop('id', axis=1)\n",
        "test = test.drop('id', axis=1)"
      ]
    },
    {
      "cell_type": "code",
      "execution_count": null,
      "id": "f467a566",
      "metadata": {
        "id": "f467a566"
      },
      "outputs": [],
      "source": [
        "train[\"car_sum\"] = train[\"Vehicle_Damage\"].astype(\"str\") + train[\"Driving_License\"].astype(\"str\") + train[\"Previously_Insured\"].astype(\"str\")\n",
        "train[\"car_sum\"] = train[\"car_sum\"].astype(\"category\").cat.codes\n",
        "\n",
        "test[\"car_sum\"] = test[\"Vehicle_Damage\"].astype(\"str\") + test[\"Driving_License\"].astype(\"str\") + test[\"Previously_Insured\"].astype(\"str\")\n",
        "test[\"car_sum\"] = test[\"car_sum\"].astype(\"category\").cat.codes"
      ]
    },
    {
      "cell_type": "code",
      "execution_count": null,
      "id": "09535c1c",
      "metadata": {
        "id": "09535c1c"
      },
      "outputs": [],
      "source": [
        "train['Gender'] = train['Gender'].replace({'Male': 0, 'Female': 1})\n",
        "test['Gender'] = test['Gender'].replace({'Male': 0, 'Female': 1})\n",
        "\n",
        "train['Vehicle_Age'] = train['Vehicle_Age'].replace({'< 1 Year': 0, '1-2 Year': 1, '> 2 Years': 2})\n",
        "test['Vehicle_Age'] = test['Vehicle_Age'].replace({'< 1 Year': 0, '1-2 Year': 1, '> 2 Years': 2})\n",
        "\n",
        "train['Vehicle_Damage'] = train['Vehicle_Damage'].replace({'Yes': 1, 'No': 0})\n",
        "test['Vehicle_Damage'] = test['Vehicle_Damage'].replace({'Yes': 1, 'No': 0})"
      ]
    },
    {
      "cell_type": "code",
      "execution_count": null,
      "id": "ad49ad06",
      "metadata": {
        "id": "ad49ad06"
      },
      "outputs": [],
      "source": [
        "from sklearn.preprocessing import MinMaxScaler\n",
        "\n",
        "selected_columns = ['Annual_Premium', 'Policy_Sales_Channel', 'Vintage']\n",
        "minMax = MinMaxScaler()\n",
        "\n",
        "# 훈련 데이터와 테스트 데이터 스케일링\n",
        "train[selected_columns] = minMax.fit_transform(train[selected_columns])\n",
        "test[selected_columns] = minMax.transform(test[selected_columns])"
      ]
    },
    {
      "cell_type": "code",
      "execution_count": null,
      "id": "xyU4qG8rT2Ap",
      "metadata": {
        "id": "xyU4qG8rT2Ap"
      },
      "outputs": [],
      "source": [
        "from sklearn.model_selection import train_test_split\n",
        "X = train.drop('Response', axis=1)\n",
        "y = train['Response']\n",
        "\n",
        "X_train, X_test, y_train, y_test = train_test_split(X, y, test_size=0.2, random_state=42)\n",
        "#X_tr, X_val, y_tr, y_val = train_test_split 다른 사람은 이거로 한 번 더 데이터를 나눔"
      ]
    },
    {
      "cell_type": "code",
      "execution_count": null,
      "id": "p5pMoZwdZlD-",
      "metadata": {
        "colab": {
          "base_uri": "https://localhost:8080/"
        },
        "id": "p5pMoZwdZlD-",
        "outputId": "86713ed8-3e22-44e5-8d89-b5e522151b77"
      },
      "outputs": [
        {
          "name": "stdout",
          "output_type": "stream",
          "text": [
            "100%|██████████| 30/30 [1:33:03<00:00, 186.11s/trial, best loss: -0.8788716581307815]\n",
            "Best parameters found:  {'colsample_bytree': 0.61047475224101, 'gamma': 0.2728782098188464, 'learning_rate': 0.19392589558523762, 'max_depth': 10.0, 'min_child_weight': 3.0, 'subsample': 0.6733218184101404}\n"
          ]
        }
      ],
      "source": [
        "from hyperopt import fmin, tpe, hp, STATUS_OK, Trials\n",
        "import xgboost as xgb\n",
        "from sklearn.metrics import roc_auc_score\n",
        "# 하이퍼파라미터의 검색 공간 정의\n",
        "space = {\n",
        "    'max_depth': hp.quniform('max_depth', 3, 10, 1),\n",
        "    'learning_rate': hp.uniform('learning_rate', 0.01, 0.2),\n",
        "    #'n_estimators': hp.quniform('n_estimators', 100, 500, 50),\n",
        "    'gamma': hp.uniform('gamma', 0, 0.5),\n",
        "    'subsample': hp.uniform('subsample', 0.5, 1),\n",
        "    'colsample_bytree': hp.uniform('colsample_bytree', 0.5, 1),\n",
        "    'min_child_weight': hp.quniform('min_child_weight', 1, 10, 1)\n",
        "}\n",
        "\n",
        "# 목적 함수 정의\n",
        "def objective(params):\n",
        "    params['max_depth'] = int(params['max_depth'])\n",
        "    params['n_estimators'] = 100\n",
        "\n",
        "    model = xgb.XGBClassifier(**params, use_label_encoder=False, eval_metric='logloss')\n",
        "    model.fit(X_train, y_train)\n",
        "    preds = model.predict_proba(X_test)[:, 1]\n",
        "    roc_auc = roc_auc_score(y_test, preds)\n",
        "\n",
        "    return {'loss': -roc_auc, 'status': STATUS_OK}\n",
        "\n",
        "# Trials 객체 생성\n",
        "trials = Trials()\n",
        "\n",
        "# Hyperopt로 최적의 하이퍼파라미터 탐색\n",
        "best = fmin(fn=objective,\n",
        "            space=space,\n",
        "            algo=tpe.suggest,\n",
        "            max_evals=30,\n",
        "            trials=trials)\n",
        "\n",
        "print(\"Best parameters found: \", best)\n",
        "\n",
        "# Trials 객체 생성\n",
        "trials = Trials()"
      ]
    },
    {
      "cell_type": "code",
      "execution_count": null,
      "id": "1leGJVGNZlGD",
      "metadata": {
        "colab": {
          "background_save": true
        },
        "id": "1leGJVGNZlGD"
      },
      "outputs": [],
      "source": [
        "# 최적의 하이퍼파라미터로 모델 학습 및 평가\n",
        "best_params = {\n",
        "    'max_depth': int(best['max_depth']),\n",
        "    'learning_rate': best['learning_rate'],\n",
        "    'n_estimators': 300,\n",
        "    'gamma': best['gamma'],\n",
        "    'subsample': best['subsample'],\n",
        "    'colsample_bytree': best['colsample_bytree'],\n",
        "    'min_child_weight': best['min_child_weight']\n",
        "}\n",
        "\n",
        "model = xgb.XGBClassifier(**best_params, use_label_encoder=False, eval_metric='logloss')\n",
        "model.fit(X_train, y_train)\n",
        "preds = model.predict_proba(X_test)[:, 1]\n",
        "roc_auc = roc_auc_score(y_test, preds)"
      ]
    },
    {
      "cell_type": "code",
      "execution_count": null,
      "id": "ZQkAqYeUZlIR",
      "metadata": {
        "id": "ZQkAqYeUZlIR"
      },
      "outputs": [],
      "source": []
    },
    {
      "cell_type": "code",
      "execution_count": null,
      "id": "L9cyxWFnZlKT",
      "metadata": {
        "id": "L9cyxWFnZlKT"
      },
      "outputs": [],
      "source": []
    },
    {
      "cell_type": "code",
      "execution_count": null,
      "id": "3rwePctuZlMa",
      "metadata": {
        "id": "3rwePctuZlMa"
      },
      "outputs": [],
      "source": []
    },
    {
      "cell_type": "code",
      "execution_count": null,
      "id": "FucXn8f1Txbw",
      "metadata": {
        "id": "FucXn8f1Txbw"
      },
      "outputs": [],
      "source": [
        "## 1) 검색 공간 설정\n",
        "\n",
        "from hyperopt import hp\n",
        "\n",
        "## LightGBM이 XBGoost에 비해 깊이가 깊음\n",
        "search_space = {\n",
        "    'max_depth': hp.quniform('max_depth', 3, 10, 1),\n",
        "    'learning_rate': hp.uniform('learning_rate', 0.01, 0.2),\n",
        "    'n_estimators': hp.quniform('n_estimators', 100, 500, 50),\n",
        "    'gamma': hp.uniform('gamma', 0, 0.5),\n",
        "    'subsample': hp.uniform('subsample', 0.5, 1),\n",
        "    'colsample_bytree': hp.uniform('colsample_bytree', 0.5, 1),\n",
        "    'min_child_weight': hp.quniform('min_child_weight', 1, 10, 1)\n",
        "}\n",
        "\n",
        "## 2) 목적 함수 설정\n",
        "\n",
        "from sklearn.model_selection import KFold\n",
        "from sklearn.metrics import roc_auc_score\n",
        "from xgboost import XGBClassifier\n",
        "from sklearn.metrics import roc_auc_score\n",
        "\n",
        "def objective_func(search_space):\n",
        "\n",
        "  xgb_clf = XGBClassifier(\n",
        "      n_estimators=100,\n",
        "      max_depth=int(search_space['max_depth']),                ## int형으로 형변환 필요\n",
        "      min_child_weight=int(search_space['min_child_weight']),  ## int형으로 형변환 필요\n",
        "      learning_rate=search_space['learning_rate'],\n",
        "      subsample=search_space['subsample'],\n",
        "      num_leaves=int(search_space['num_leaves']),\n",
        "      #eval_metric='logloss' => 불균형 데이터셋이므로 성능 평가 지표를 roc-auc로 설정\n",
        "      )\n",
        "\n",
        "      ## XGBoost와 LightGBM에서는 cross_val_score()를 적용하면 early stopping 지원 불가, KFold 방식으로 직접 구현해야 함\n",
        "      ## 3개의 k-fold 방식으로 평가된 roc-auc 지표를 담는 list\n",
        "  roc_auc_list = []\n",
        "\n",
        "  ## 3개의 k-fold 방식 적용\n",
        "  kf = KFold(n_splits=3)\n",
        "\n",
        "  for tr_index, val_index in kf.split(X_train):\n",
        "\n",
        "    X_tr, y_tr = X_train.iloc[tr_index], y_train.iloc[tr_index]\n",
        "    X_val, y_val = X_train.iloc[val_index], y_train.iloc[val_index]\n",
        "\n",
        "    xgb_clf.fit(\n",
        "        X_tr, y_tr,\n",
        "        eval_metric='auc',\n",
        "        eval_set=[(X_tr, y_tr), (X_val, y_val)]\n",
        "    )\n",
        "\n",
        "    score = roc_auc_score(\n",
        "        y_val,\n",
        "        xgb_clf.predict_proba(X_val)[:, 1]\n",
        "    )\n",
        "\n",
        "    roc_auc_list.append(score)\n",
        "\n",
        "  return (-1) * np.mean(roc_auc_list)\n"
      ]
    },
    {
      "cell_type": "code",
      "execution_count": null,
      "id": "42bb8762",
      "metadata": {
        "id": "42bb8762"
      },
      "outputs": [],
      "source": []
    },
    {
      "cell_type": "code",
      "execution_count": null,
      "id": "ucYdLUzyPJW5",
      "metadata": {
        "id": "ucYdLUzyPJW5"
      },
      "outputs": [],
      "source": [
        "# 3) fmin()을 사용하여 최적 하이퍼 파라미터 찾기\n",
        "\n",
        "from hyperopt import fmin, tpe, Trials\n",
        "\n",
        "trials = Trials()\n",
        "\n",
        "best = fmin(\n",
        "    fn=objective_func,\n",
        "    space=lgbm_search_space,\n",
        "    algo=tpe.suggest,\n",
        "    max_evals=30,  ## 30번 만큼 반복하며 최적의 하이퍼 파라미터 찾음\n",
        "    trials=trials,\n",
        ")"
      ]
    },
    {
      "cell_type": "code",
      "execution_count": null,
      "id": "OE3o7QlxPLlH",
      "metadata": {
        "id": "OE3o7QlxPLlH"
      },
      "outputs": [],
      "source": [
        "## 획득한 최적의 하이퍼 파라미터를 이용하여 모델 선언\n",
        "lgbm_wrapper = LGBMClassifier(\n",
        "    n_estimators=500,\n",
        "    num_leaves=int(best['num_leaves']),\n",
        "    learning_rate=round(best['learning_rate'], 5),\n",
        "    max_depth=int(best['max_depth']),\n",
        "    min_child_weight=int(best['min_child_weight']),\n",
        "    subsample=round(best['subsample'], 5)\n",
        ")"
      ]
    },
    {
      "cell_type": "code",
      "execution_count": null,
      "id": "OEirEu4VVgCu",
      "metadata": {
        "id": "OEirEu4VVgCu"
      },
      "outputs": [],
      "source": [
        "lgbm_wrapper.fit(\n",
        "    X_tr, y_tr,\n",
        "    eval_metric='auc',\n",
        "    eval_set=[(X_tr, y_tr), (X_test, y_test)]\n",
        ")"
      ]
    },
    {
      "cell_type": "code",
      "execution_count": null,
      "id": "PZg-B5_dViDW",
      "metadata": {
        "id": "PZg-B5_dViDW"
      },
      "outputs": [],
      "source": [
        "lgbm_roc_score = roc_auc_score(\n",
        "    y_test,\n",
        "    lgbm_wrapper.predict_proba(X_test)[:, 1]\n",
        ")\n",
        "\n",
        "lgbm_roc_score"
      ]
    },
    {
      "cell_type": "code",
      "execution_count": null,
      "id": "CxmX_rVeXLVA",
      "metadata": {
        "id": "CxmX_rVeXLVA"
      },
      "outputs": [],
      "source": [
        "#피처중요도\n",
        "import matplotlib as mpl\n",
        "import matplotlib.pyplot as plt\n",
        "import seaborn as sns\n",
        "from lightgbm import plot_importance\n",
        "\n",
        "\n",
        "ax = lgb.plot_importance(lgbm_clf, importance_type='split', max_num_features=10, figsize=(10, 6))\n",
        "plt.title('Feature Importance (Split)')\n",
        "plt.show()"
      ]
    }
  ],
  "metadata": {
    "colab": {
      "provenance": [],
      "include_colab_link": true
    },
    "kernelspec": {
      "display_name": "Python 3 (ipykernel)",
      "language": "python",
      "name": "python3"
    },
    "language_info": {
      "codemirror_mode": {
        "name": "ipython",
        "version": 3
      },
      "file_extension": ".py",
      "mimetype": "text/x-python",
      "name": "python",
      "nbconvert_exporter": "python",
      "pygments_lexer": "ipython3",
      "version": "3.11.4"
    }
  },
  "nbformat": 4,
  "nbformat_minor": 5
}